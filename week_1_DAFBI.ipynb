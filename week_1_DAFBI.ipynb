{
  "nbformat": 4,
  "nbformat_minor": 0,
  "metadata": {
    "colab": {
      "provenance": []
    },
    "kernelspec": {
      "name": "python3",
      "display_name": "Python 3"
    },
    "language_info": {
      "name": "python"
    }
  },
  "cells": [
    {
      "cell_type": "code",
      "execution_count": 2,
      "metadata": {
        "id": "4x2247aJ_jKW"
      },
      "outputs": [],
      "source": [
        "# Importong the libraries\n",
        "import pandas as pd\n",
        "import numpy as np\n",
        "import matplotlib.pyplot as plt\n"
      ]
    },
    {
      "cell_type": "code",
      "source": [
        "df = pd.read_csv(\"/content/customer_signups.csv\")\n",
        "\n",
        "print(df.head())\n",
        "\n",
        "df.info()"
      ],
      "metadata": {
        "colab": {
          "base_uri": "https://localhost:8080/"
        },
        "id": "0hZc45hyDVTx",
        "outputId": "55213c96-8e84-445e-fba0-5e8b0c4173bf"
      },
      "execution_count": 18,
      "outputs": [
        {
          "output_type": "stream",
          "name": "stdout",
          "text": [
            "  customer_id             name                 email signup_date     source  \\\n",
            "0   CUST00000    Joshua Bryant                   NaN         NaN  Instagram   \n",
            "1   CUST00001   Nicole Stewart   nicole1@example.com    02-01-24   LinkedIn   \n",
            "2   CUST00002     Rachel Allen   rachel2@example.com    03-01-24     Google   \n",
            "3   CUST00003  Zachary Sanchez  zachary3@mailhub.org    04-01-24    YouTube   \n",
            "4   CUST00004              NaN  matthew4@mailhub.org    05-01-24   LinkedIn   \n",
            "\n",
            "  region plan_selected marketing_opt_in age      gender  \n",
            "0    NaN         basic               No  34      Female  \n",
            "1   West         basic              Yes  29        Male  \n",
            "2  North       PREMIUM              Yes  34  Non-Binary  \n",
            "3    NaN           Pro               No  40        Male  \n",
            "4   West       Premium               No  25       Other  \n",
            "<class 'pandas.core.frame.DataFrame'>\n",
            "RangeIndex: 300 entries, 0 to 299\n",
            "Data columns (total 10 columns):\n",
            " #   Column            Non-Null Count  Dtype \n",
            "---  ------            --------------  ----- \n",
            " 0   customer_id       298 non-null    object\n",
            " 1   name              291 non-null    object\n",
            " 2   email             266 non-null    object\n",
            " 3   signup_date       298 non-null    object\n",
            " 4   source            291 non-null    object\n",
            " 5   region            270 non-null    object\n",
            " 6   plan_selected     292 non-null    object\n",
            " 7   marketing_opt_in  290 non-null    object\n",
            " 8   age               288 non-null    object\n",
            " 9   gender            292 non-null    object\n",
            "dtypes: object(10)\n",
            "memory usage: 23.6+ KB\n"
          ]
        }
      ]
    },
    {
      "cell_type": "code",
      "source": [
        "df.info()"
      ],
      "metadata": {
        "colab": {
          "base_uri": "https://localhost:8080/"
        },
        "id": "jHtDMFSYI3wg",
        "outputId": "bfb41191-c4e2-4712-ca3e-fb375b5cac75"
      },
      "execution_count": 19,
      "outputs": [
        {
          "output_type": "stream",
          "name": "stdout",
          "text": [
            "<class 'pandas.core.frame.DataFrame'>\n",
            "RangeIndex: 300 entries, 0 to 299\n",
            "Data columns (total 10 columns):\n",
            " #   Column            Non-Null Count  Dtype \n",
            "---  ------            --------------  ----- \n",
            " 0   customer_id       298 non-null    object\n",
            " 1   name              291 non-null    object\n",
            " 2   email             266 non-null    object\n",
            " 3   signup_date       298 non-null    object\n",
            " 4   source            291 non-null    object\n",
            " 5   region            270 non-null    object\n",
            " 6   plan_selected     292 non-null    object\n",
            " 7   marketing_opt_in  290 non-null    object\n",
            " 8   age               288 non-null    object\n",
            " 9   gender            292 non-null    object\n",
            "dtypes: object(10)\n",
            "memory usage: 23.6+ KB\n"
          ]
        }
      ]
    },
    {
      "cell_type": "code",
      "source": [
        "print(df.isnull().sum())"
      ],
      "metadata": {
        "colab": {
          "base_uri": "https://localhost:8080/"
        },
        "id": "kBLUtU-3JXwA",
        "outputId": "0200bab3-38e0-4763-88d5-97e0a23a0782"
      },
      "execution_count": 20,
      "outputs": [
        {
          "output_type": "stream",
          "name": "stdout",
          "text": [
            "customer_id          2\n",
            "name                 9\n",
            "email               34\n",
            "signup_date          2\n",
            "source               9\n",
            "region              30\n",
            "plan_selected        8\n",
            "marketing_opt_in    10\n",
            "age                 12\n",
            "gender               8\n",
            "dtype: int64\n"
          ]
        }
      ]
    },
    {
      "cell_type": "code",
      "source": [
        "# Show first 5 rows\n",
        "print(\"\\n--- First 5 Rows ---\")\n",
        "print(df.head())\n",
        "\n",
        "# Show column structure and data types\n",
        "print(\"\\n--- Column Info ---\")\n",
        "print(df.info())\n",
        "\n",
        "# Count missing values in each column\n",
        "print(\"\\n--- Missing Values ---\")\n",
        "print(df.isnull().sum())\n",
        "\n",
        "# % of missing values (to understand better)\n",
        "print(\"\\n--- % of Missing Values ---\")\n",
        "print((df.isnull().mean() * 100).round(2))"
      ],
      "metadata": {
        "colab": {
          "base_uri": "https://localhost:8080/"
        },
        "id": "0A32t6YaO4Sk",
        "outputId": "4a81a037-6e15-441b-bd37-c5f899480b08"
      },
      "execution_count": 21,
      "outputs": [
        {
          "output_type": "stream",
          "name": "stdout",
          "text": [
            "\n",
            "--- First 5 Rows ---\n",
            "  customer_id             name                 email signup_date     source  \\\n",
            "0   CUST00000    Joshua Bryant                   NaN         NaN  Instagram   \n",
            "1   CUST00001   Nicole Stewart   nicole1@example.com    02-01-24   LinkedIn   \n",
            "2   CUST00002     Rachel Allen   rachel2@example.com    03-01-24     Google   \n",
            "3   CUST00003  Zachary Sanchez  zachary3@mailhub.org    04-01-24    YouTube   \n",
            "4   CUST00004              NaN  matthew4@mailhub.org    05-01-24   LinkedIn   \n",
            "\n",
            "  region plan_selected marketing_opt_in age      gender  \n",
            "0    NaN         basic               No  34      Female  \n",
            "1   West         basic              Yes  29        Male  \n",
            "2  North       PREMIUM              Yes  34  Non-Binary  \n",
            "3    NaN           Pro               No  40        Male  \n",
            "4   West       Premium               No  25       Other  \n",
            "\n",
            "--- Column Info ---\n",
            "<class 'pandas.core.frame.DataFrame'>\n",
            "RangeIndex: 300 entries, 0 to 299\n",
            "Data columns (total 10 columns):\n",
            " #   Column            Non-Null Count  Dtype \n",
            "---  ------            --------------  ----- \n",
            " 0   customer_id       298 non-null    object\n",
            " 1   name              291 non-null    object\n",
            " 2   email             266 non-null    object\n",
            " 3   signup_date       298 non-null    object\n",
            " 4   source            291 non-null    object\n",
            " 5   region            270 non-null    object\n",
            " 6   plan_selected     292 non-null    object\n",
            " 7   marketing_opt_in  290 non-null    object\n",
            " 8   age               288 non-null    object\n",
            " 9   gender            292 non-null    object\n",
            "dtypes: object(10)\n",
            "memory usage: 23.6+ KB\n",
            "None\n",
            "\n",
            "--- Missing Values ---\n",
            "customer_id          2\n",
            "name                 9\n",
            "email               34\n",
            "signup_date          2\n",
            "source               9\n",
            "region              30\n",
            "plan_selected        8\n",
            "marketing_opt_in    10\n",
            "age                 12\n",
            "gender               8\n",
            "dtype: int64\n",
            "\n",
            "--- % of Missing Values ---\n",
            "customer_id          0.67\n",
            "name                 3.00\n",
            "email               11.33\n",
            "signup_date          0.67\n",
            "source               3.00\n",
            "region              10.00\n",
            "plan_selected        2.67\n",
            "marketing_opt_in     3.33\n",
            "age                  4.00\n",
            "gender               2.67\n",
            "dtype: float64\n"
          ]
        }
      ]
    },
    {
      "cell_type": "code",
      "source": [],
      "metadata": {
        "id": "tQ3R13ojO4OL"
      },
      "execution_count": null,
      "outputs": []
    },
    {
      "cell_type": "code",
      "source": [],
      "metadata": {
        "id": "WdpbfuB-O4Mh"
      },
      "execution_count": null,
      "outputs": []
    },
    {
      "cell_type": "code",
      "source": [],
      "metadata": {
        "id": "qn5xhVj2O4IJ"
      },
      "execution_count": null,
      "outputs": []
    },
    {
      "cell_type": "code",
      "source": [],
      "metadata": {
        "id": "BNqOgIwcO4Gj"
      },
      "execution_count": null,
      "outputs": []
    },
    {
      "cell_type": "code",
      "source": [],
      "metadata": {
        "id": "k4C0sy6BO4CA"
      },
      "execution_count": null,
      "outputs": []
    },
    {
      "cell_type": "code",
      "source": [],
      "metadata": {
        "id": "CXTjXaClO4AW"
      },
      "execution_count": null,
      "outputs": []
    },
    {
      "cell_type": "code",
      "source": [],
      "metadata": {
        "id": "z93ge7sxO38u"
      },
      "execution_count": null,
      "outputs": []
    },
    {
      "cell_type": "code",
      "source": [],
      "metadata": {
        "id": "R5kIKSxoO37H"
      },
      "execution_count": null,
      "outputs": []
    },
    {
      "cell_type": "code",
      "source": [],
      "metadata": {
        "id": "pqaEWXh5O32e"
      },
      "execution_count": null,
      "outputs": []
    },
    {
      "cell_type": "code",
      "source": [],
      "metadata": {
        "id": "NS5oOT7UO304"
      },
      "execution_count": null,
      "outputs": []
    },
    {
      "cell_type": "code",
      "source": [],
      "metadata": {
        "id": "d7dRERpnO3xC"
      },
      "execution_count": null,
      "outputs": []
    },
    {
      "cell_type": "code",
      "source": [],
      "metadata": {
        "id": "32a45R8EO3vM"
      },
      "execution_count": null,
      "outputs": []
    }
  ]
}